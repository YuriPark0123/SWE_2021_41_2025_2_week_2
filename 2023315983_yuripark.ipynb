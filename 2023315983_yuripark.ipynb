{
  "nbformat": 4,
  "nbformat_minor": 0,
  "metadata": {
    "colab": {
      "provenance": []
    },
    "kernelspec": {
      "name": "python3",
      "display_name": "Python 3"
    },
    "language_info": {
      "name": "python"
    }
  },
  "cells": [
    {
      "cell_type": "code",
      "execution_count": 10,
      "metadata": {
        "id": "Z5cNOCz35AMW",
        "colab": {
          "base_uri": "https://localhost:8080/"
        },
        "outputId": "4b726dd4-3cbc-4c3b-c07b-f556757af2ee"
      },
      "outputs": [
        {
          "output_type": "stream",
          "name": "stdout",
          "text": [
            "True\n",
            "True\n",
            "False\n"
          ]
        }
      ],
      "source": [
        "def isHappy(n):\n",
        "\n",
        "  while n >= 10:\n",
        "    str_n = str(n)\n",
        "    n = sum(int(digit)**2 for digit in str_n)\n",
        "\n",
        "  return n ==1\n",
        "\n",
        "print(isHappy(19))\n",
        "print(isHappy(1))\n",
        "print(isHappy(2))\n"
      ]
    }
  ]
}