{
  "cells": [
    {
      "cell_type": "code",
      "execution_count": 1,
      "metadata": {
        "colab": {
          "base_uri": "https://localhost:8080/"
        },
        "id": "Z5cNOCz35AMW",
        "outputId": "4b726dd4-3cbc-4c3b-c07b-f556757af2ee"
      },
      "outputs": [
        {
          "name": "stdout",
          "output_type": "stream",
          "text": [
            "True\n",
            "True\n",
            "False\n"
          ]
        }
      ],
      "source": [
        "def isHappy(n):\n",
        "  if n >= 1  and n < 2**31:\n",
        "    while n >= 10:\n",
        "      str_n = str(n)\n",
        "      n = sum(int(digit)**2 for digit in str_n)\n",
        "\n",
        "    return n ==1\n",
        "\n",
        "print(isHappy(19))\n",
        "print(isHappy(1))\n",
        "print(isHappy(2))\n"
      ]
    }
  ],
  "metadata": {
    "colab": {
      "provenance": []
    },
    "kernelspec": {
      "display_name": "base",
      "language": "python",
      "name": "python3"
    },
    "language_info": {
      "codemirror_mode": {
        "name": "ipython",
        "version": 3
      },
      "file_extension": ".py",
      "mimetype": "text/x-python",
      "name": "python",
      "nbconvert_exporter": "python",
      "pygments_lexer": "ipython3",
      "version": "3.13.5"
    }
  },
  "nbformat": 4,
  "nbformat_minor": 0
}
